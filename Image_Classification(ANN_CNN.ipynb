{
 "cells": [
  {
   "cell_type": "markdown",
   "id": "cac78600",
   "metadata": {},
   "source": [
    "## Artificial Neural Network and Convolutional Neural Network Classification of the CIFAR10 Dataset."
   ]
  },
  {
   "cell_type": "markdown",
   "id": "f087ae71",
   "metadata": {},
   "source": [
    "- The dataset contains 60,000 colored images in the dimension 32x32 in 10 classes or outputs. The test images are 10,000 while the training data are 50,000. The aim of this project is to build a neural network that will sucessfully identify which class an image belong to upon viewing it."
   ]
  },
  {
   "cell_type": "markdown",
   "id": "eb018e1c",
   "metadata": {},
   "source": [
    "#### Import the required libraries and dataset"
   ]
  },
  {
   "cell_type": "code",
   "execution_count": 1,
   "id": "00be714e",
   "metadata": {},
   "outputs": [],
   "source": [
    "import numpy as np\n",
    "import matplotlib.pyplot as plt\n",
    "import tensorflow as tf\n",
    "from tensorflow.keras import datasets,layers,models\n"
   ]
  },
  {
   "cell_type": "code",
   "execution_count": 2,
   "id": "569d5c39",
   "metadata": {},
   "outputs": [
    {
     "data": {
      "text/plain": [
       "(50000, 32, 32, 3)"
      ]
     },
     "execution_count": 2,
     "metadata": {},
     "output_type": "execute_result"
    }
   ],
   "source": [
    "#load the dataset from the keras library\n",
    "#split the dataset into test and train \n",
    "(X_train,y_train),(X_test,y_test)=datasets.cifar10.load_data()\n",
    "X_train.shape"
   ]
  },
  {
   "cell_type": "markdown",
   "id": "021d24c9",
   "metadata": {},
   "source": [
    "- Note that this implies that there are 50000 training images of 32x32 pixels in RGB color format"
   ]
  },
  {
   "cell_type": "code",
   "execution_count": 3,
   "id": "1cc73233",
   "metadata": {},
   "outputs": [
    {
     "data": {
      "text/plain": [
       "(10000, 32, 32, 3)"
      ]
     },
     "execution_count": 3,
     "metadata": {},
     "output_type": "execute_result"
    }
   ],
   "source": [
    "#there are 10000 32x32 colored pixel images\n",
    "X_test.shape"
   ]
  },
  {
   "cell_type": "code",
   "execution_count": 4,
   "id": "c38d7aa2",
   "metadata": {},
   "outputs": [
    {
     "data": {
      "text/plain": [
       "array([[6],\n",
       "       [9],\n",
       "       [9],\n",
       "       [4],\n",
       "       [1]], dtype=uint8)"
      ]
     },
     "execution_count": 4,
     "metadata": {},
     "output_type": "execute_result"
    }
   ],
   "source": [
    "#an overview of the first 5 images in the y_train. This shows that it is a multidimensional array, a two dimensional arra.\n",
    "#I'll need to reshape it and bring it to a one dimensional array so that way\n",
    "# our neural network can recognize it properly. \n",
    "y_train[:5]"
   ]
  },
  {
   "cell_type": "code",
   "execution_count": 5,
   "id": "04a87fa4",
   "metadata": {},
   "outputs": [
    {
     "data": {
      "text/plain": [
       "array([6, 9, 9, 4, 1], dtype=uint8)"
      ]
     },
     "execution_count": 5,
     "metadata": {},
     "output_type": "execute_result"
    }
   ],
   "source": [
    "#the .reshape function is used to change the dimension of an array as one see fit\n",
    "y_train=y_train.reshape(-1,)\n",
    "y_train[:5]"
   ]
  },
  {
   "cell_type": "code",
   "execution_count": 6,
   "id": "42cb100f",
   "metadata": {},
   "outputs": [
    {
     "data": {
      "text/plain": [
       "'truck'"
      ]
     },
     "execution_count": 6,
     "metadata": {},
     "output_type": "execute_result"
    }
   ],
   "source": [
    "#our output variables/labels/classes  are 10 in number according to the dataset. \n",
    "classes = ['airplane','automobile','bird', 'cat','deer','dog','frog','horse','ship','truck']\n",
    "classes[9]"
   ]
  },
  {
   "cell_type": "code",
   "execution_count": 7,
   "id": "a570afc4",
   "metadata": {},
   "outputs": [],
   "source": [
    "#creating a function that allows us to visually plot the arrays (images) is the \n",
    "#next course of action\n",
    "def plot_images (X,y,index): #the call function\n",
    "    plt.figure(figsize=(12,2)) #the size of the image\n",
    "    plt.imshow(X[index]) #the image will be selected from the X dataset\n",
    "    plt.xlabel(classes[y[index]]) #the label will be the class from the y dataset"
   ]
  },
  {
   "cell_type": "code",
   "execution_count": 8,
   "id": "a74b9941",
   "metadata": {},
   "outputs": [
    {
     "data": {
      "image/png": "[encoded data removed]",
      "text/plain": [
       "<Figure size 864x144 with 1 Axes>"
      ]
     },
     "metadata": {
      "needs_background": "light"
     },
     "output_type": "display_data"
    }
   ],
   "source": [
    "plot_images(X_train,y_train,0)"
   ]
  },
  {
   "cell_type": "code",
   "execution_count": 9,
   "id": "0713631f",
   "metadata": {},
   "outputs": [
    {
     "data": {
      "image/png": "[encoded data removed]",
      "text/plain": [
       "<Figure size 864x144 with 1 Axes>"
      ]
     },
     "metadata": {
      "needs_background": "light"
     },
     "output_type": "display_data"
    }
   ],
   "source": [
    "plot_images(X_train,y_train,9)"
   ]
  },
  {
   "cell_type": "code",
   "execution_count": 10,
   "id": "d8955571",
   "metadata": {},
   "outputs": [],
   "source": [
    "#kernels are used to represent images as numbers. The kenrel ranges fromm 0 to 255\n",
    "#with black=0 and white=255. Because of the type of activation function I'll be using, and also to improve the overall\n",
    "#accuracy of the model, its best to scale the input data\n",
    "\n",
    "X_train=X_train/255\n",
    "X_test=X_test/255"
   ]
  },
  {
   "cell_type": "markdown",
   "id": "4bc9eabb",
   "metadata": {},
   "source": [
    "#### Artificial Neural Network\n",
    "- The flowchart of a normal neural network is input data-hidden layer(s)-activation function-output however, the pathway is data-model~objective function~optimization.\n",
    "- First we feed the data as inputs and they must be in one dimension.\n",
    "- Next we build our model\n",
    "- Create our objective function and optimizer"
   ]
  },
  {
   "cell_type": "code",
   "execution_count": 11,
   "id": "9dcef581",
   "metadata": {},
   "outputs": [
    {
     "name": "stdout",
     "output_type": "stream",
     "text": [
      "Epoch 1/5\n",
      "1563/1563 [==============================] - 344s 137ms/step - loss: 1.8103 - accuracy: 0.3573\n",
      "Epoch 2/5\n",
      "1563/1563 [==============================] - 187s 120ms/step - loss: 1.6248 - accuracy: 0.4276\n",
      "Epoch 3/5\n",
      "1563/1563 [==============================] - 193s 124ms/step - loss: 1.5400 - accuracy: 0.4567\n",
      "Epoch 4/5\n",
      "1563/1563 [==============================] - 191s 122ms/step - loss: 1.4813 - accuracy: 0.4779\n",
      "Epoch 5/5\n",
      "1563/1563 [==============================] - 191s 122ms/step - loss: 1.4337 - accuracy: 0.4955\n"
     ]
    },
    {
     "data": {
      "text/plain": [
       "<keras.callbacks.History at 0x19d4fd2fe80>"
      ]
     },
     "execution_count": 11,
     "metadata": {},
     "output_type": "execute_result"
    }
   ],
   "source": [
    "#model\n",
    "model=models.Sequential([ #.Sequnetial allows us to stack the layerss on each other\n",
    "    layers.Flatten(input_shape=(32,32,3)), #the input data must be in a one dimensional array and the .flatten is used to transform it\n",
    "    layers.Dense(3000,activation='relu'), #this is an hidden layer with relu activation function. Relu takes the maximum number between 0 and a\n",
    "    layers.Dense(1000,activation='relu'), #another hiddden layer\n",
    "    layers.Dense(10,activation='sigmoid') #output layer with the activation layer Sigmoid. Sigmoid takes it range from 0 to 1. Its results are in a probability format\n",
    "])\n",
    "\n",
    "#Optimizer\n",
    "model.compile(optimizer='SGD', #the stochastic gradient decent is an optimization function\n",
    "              loss='sparse_categorical_crossentropy', #this is a loss function used for classification and belongs in the cross entropy category\n",
    "              metrics=['accuracy'])\n",
    "\n",
    "model.fit(X_train,y_train,epochs=5) #this means that we want our model to run propagate 5 times till it gets the lowest loss function and the highest accuracy"
   ]
  },
  {
   "cell_type": "code",
   "execution_count": 29,
   "id": "07a26fe1",
   "metadata": {},
   "outputs": [
    {
     "name": "stdout",
     "output_type": "stream",
     "text": [
      "313/313 [==============================] - 25s 34ms/step - loss: 1.5814 - accuracy: 0.4355\n"
     ]
    },
    {
     "data": {
      "text/plain": [
       "[1.581419587135315, 0.43549999594688416]"
      ]
     },
     "execution_count": 29,
     "metadata": {},
     "output_type": "execute_result"
    }
   ],
   "source": [
    "#validate the model\n",
    "model.evaluate(X_test,y_test)"
   ]
  },
  {
   "cell_type": "markdown",
   "id": "77e11b92",
   "metadata": {},
   "source": [
    "- the loss function is high and the accuracy is low hence there is need to improved our model as it didnt perform well"
   ]
  },
  {
   "cell_type": "code",
   "execution_count": 12,
   "id": "507774ec",
   "metadata": {},
   "outputs": [
    {
     "name": "stdout",
     "output_type": "stream",
     "text": [
      "313/313 [==============================] - 15s 28ms/step\n",
      "Classification Report: \n",
      "               precision    recall  f1-score   support\n",
      "\n",
      "           0       0.67      0.41      0.51      1000\n",
      "           1       0.65      0.56      0.60      1000\n",
      "           2       0.41      0.23      0.29      1000\n",
      "           3       0.32      0.32      0.32      1000\n",
      "           4       0.55      0.14      0.22      1000\n",
      "           5       0.56      0.21      0.31      1000\n",
      "           6       0.24      0.92      0.38      1000\n",
      "           7       0.66      0.41      0.51      1000\n",
      "           8       0.62      0.64      0.63      1000\n",
      "           9       0.59      0.52      0.55      1000\n",
      "\n",
      "    accuracy                           0.44     10000\n",
      "   macro avg       0.53      0.44      0.43     10000\n",
      "weighted avg       0.53      0.44      0.43     10000\n",
      "\n"
     ]
    }
   ],
   "source": [
    "#as with the normal classification technique, we can check the perfomance of the nueral network \n",
    "from sklearn.metrics import confusion_matrix, classification_report\n",
    "y_pred=model.predict(X_test)\n",
    "y_pred_classes =[np.argmax(element) for element in y_pred]\n",
    "                \n",
    "print(\"Classification Report: \\n\", classification_report(y_test,y_pred_classes))"
   ]
  },
  {
   "cell_type": "markdown",
   "id": "9aeee764",
   "metadata": {},
   "source": [
    "-"
   ]
  },
  {
   "cell_type": "code",
   "execution_count": 13,
   "id": "f417f265",
   "metadata": {},
   "outputs": [],
   "source": [
    "cnn_model=models.Sequential([\n",
    "    layers.Conv2D(filters=32, kernel_size=(3,3),activation='relu', input_shape=(32,32,3)),\n",
    "    layers.MaxPooling2D((2,2)),\n",
    "    \n",
    "    layers.Conv2D(filters=64, kernel_size=(3,3),activation='relu'),\n",
    "    layers.MaxPooling2D((2,2)),\n",
    "    \n",
    "    layers.Flatten(),\n",
    "    layers.Dense(64,activation='relu'),\n",
    "    layers.Dense(10,activation='softmax')\n",
    "    \n",
    "])"
   ]
  },
  {
   "cell_type": "code",
   "execution_count": 14,
   "id": "60a7f34a",
   "metadata": {},
   "outputs": [],
   "source": [
    "cnn_model.compile(optimizer='adam',\n",
    "                  loss='sparse_categorical_crossentropy',\n",
    "                  metrics=['accuracy']\n",
    ")"
   ]
  },
  {
   "cell_type": "code",
   "execution_count": 15,
   "id": "df9af7fb",
   "metadata": {},
   "outputs": [
    {
     "name": "stdout",
     "output_type": "stream",
     "text": [
      "Epoch 1/10\n",
      "1563/1563 [==============================] - 115s 58ms/step - loss: 1.4461 - accuracy: 0.4804\n",
      "Epoch 2/10\n",
      "1563/1563 [==============================] - 85s 54ms/step - loss: 1.0933 - accuracy: 0.6174\n",
      "Epoch 3/10\n",
      "1563/1563 [==============================] - 83s 53ms/step - loss: 0.9672 - accuracy: 0.6638\n",
      "Epoch 4/10\n",
      "1563/1563 [==============================] - 75s 48ms/step - loss: 0.8811 - accuracy: 0.6947\n",
      "Epoch 5/10\n",
      "1563/1563 [==============================] - 79s 51ms/step - loss: 0.8155 - accuracy: 0.7162\n",
      "Epoch 6/10\n",
      "1563/1563 [==============================] - 75s 48ms/step - loss: 0.7606 - accuracy: 0.7368\n",
      "Epoch 7/10\n",
      "1563/1563 [==============================] - 78s 50ms/step - loss: 0.7128 - accuracy: 0.7508\n",
      "Epoch 8/10\n",
      "1563/1563 [==============================] - 79s 50ms/step - loss: 0.6701 - accuracy: 0.7663\n",
      "Epoch 9/10\n",
      "1563/1563 [==============================] - 81s 52ms/step - loss: 0.6312 - accuracy: 0.7798\n",
      "Epoch 10/10\n",
      "1563/1563 [==============================] - 78s 50ms/step - loss: 0.5949 - accuracy: 0.7908\n"
     ]
    },
    {
     "data": {
      "text/plain": [
       "<keras.callbacks.History at 0x19d535129d0>"
      ]
     },
     "execution_count": 15,
     "metadata": {},
     "output_type": "execute_result"
    }
   ],
   "source": [
    "cnn_model.fit(X_train,y_train,epochs=10)"
   ]
  },
  {
   "cell_type": "code",
   "execution_count": 16,
   "id": "94b4be6c",
   "metadata": {},
   "outputs": [
    {
     "name": "stdout",
     "output_type": "stream",
     "text": [
      "313/313 [==============================] - 23s 14ms/step - loss: 0.9116 - accuracy: 0.6988\n"
     ]
    },
    {
     "data": {
      "text/plain": [
       "[0.9115891456604004, 0.6988000273704529]"
      ]
     },
     "execution_count": 16,
     "metadata": {},
     "output_type": "execute_result"
    }
   ],
   "source": [
    "cnn_model.evaluate(X_test,y_test)"
   ]
  },
  {
   "cell_type": "code",
   "execution_count": 17,
   "id": "7aec4c3e",
   "metadata": {},
   "outputs": [
    {
     "data": {
      "text/plain": [
       "array([3, 8, 8, 0, 6], dtype=uint8)"
      ]
     },
     "execution_count": 17,
     "metadata": {},
     "output_type": "execute_result"
    }
   ],
   "source": [
    "y_test=y_test.reshape(-1,)\n",
    "y_test[:5]"
   ]
  },
  {
   "cell_type": "code",
   "execution_count": 18,
   "id": "ffcda2cd",
   "metadata": {},
   "outputs": [
    {
     "data": {
      "image/png": "[encoded data removed]",
      "text/plain": [
       "<Figure size 864x144 with 1 Axes>"
      ]
     },
     "metadata": {
      "needs_background": "light"
     },
     "output_type": "display_data"
    }
   ],
   "source": [
    "plot_images(X_test,y_test,1)"
   ]
  },
  {
   "cell_type": "code",
   "execution_count": 19,
   "id": "651b5e16",
   "metadata": {},
   "outputs": [
    {
     "name": "stdout",
     "output_type": "stream",
     "text": [
      "313/313 [==============================] - 5s 15ms/step\n"
     ]
    },
    {
     "data": {
      "text/plain": [
       "array([[2.80263863e-04, 1.44448993e-03, 4.51932719e-04, 7.07153797e-01,\n",
       "        9.27037763e-05, 2.79028088e-01, 6.80777244e-03, 5.76437014e-05,\n",
       "        3.37775936e-03, 1.30550133e-03],\n",
       "       [1.35411113e-03, 1.31817453e-03, 1.56224118e-07, 1.87340170e-08,\n",
       "        1.94771643e-09, 1.37519174e-09, 4.59360631e-12, 2.02794972e-08,\n",
       "        9.97312307e-01, 1.51672994e-05],\n",
       "       [1.00655884e-01, 2.47877613e-02, 1.05579558e-03, 2.82629374e-02,\n",
       "        3.75616335e-04, 2.60138791e-03, 6.23276210e-05, 3.06306686e-03,\n",
       "        8.26836109e-01, 1.22991251e-02],\n",
       "       [3.44378412e-01, 3.98653792e-04, 6.67178712e-04, 2.70362914e-04,\n",
       "        1.00021745e-04, 7.31095679e-06, 6.84176712e-06, 4.62242933e-05,\n",
       "        6.54071569e-01, 5.33530219e-05],\n",
       "       [8.30388061e-08, 1.65759332e-07, 4.72465716e-03, 1.29511044e-03,\n",
       "        3.81618105e-02, 5.23043855e-06, 9.55803335e-01, 1.80845845e-08,\n",
       "        9.52426944e-06, 1.81094713e-08]], dtype=float32)"
      ]
     },
     "execution_count": 19,
     "metadata": {},
     "output_type": "execute_result"
    }
   ],
   "source": [
    "y_pred=cnn_model.predict(X_test)\n",
    "y_pred[:5]"
   ]
  },
  {
   "cell_type": "code",
   "execution_count": 20,
   "id": "457d0c7b",
   "metadata": {},
   "outputs": [
    {
     "data": {
      "text/plain": [
       "[3, 8, 8, 8, 6]"
      ]
     },
     "execution_count": 20,
     "metadata": {},
     "output_type": "execute_result"
    }
   ],
   "source": [
    "y_classes=[np.argmax(element) for element in y_pred]\n",
    "y_classes[:5]"
   ]
  },
  {
   "cell_type": "code",
   "execution_count": 21,
   "id": "434108b4",
   "metadata": {},
   "outputs": [
    {
     "data": {
      "text/plain": [
       "array([3, 8, 8, 0, 6], dtype=uint8)"
      ]
     },
     "execution_count": 21,
     "metadata": {},
     "output_type": "execute_result"
    }
   ],
   "source": [
    "y_test[:5]"
   ]
  },
  {
   "cell_type": "code",
   "execution_count": 22,
   "id": "11b4bb2c",
   "metadata": {},
   "outputs": [
    {
     "data": {
      "image/png": "[encoded data removed]",
      "text/plain": [
       "<Figure size 864x144 with 1 Axes>"
      ]
     },
     "metadata": {
      "needs_background": "light"
     },
     "output_type": "display_data"
    }
   ],
   "source": [
    "plot_images(X_test,y_test,1)"
   ]
  },
  {
   "cell_type": "code",
   "execution_count": 23,
   "id": "945d58da",
   "metadata": {},
   "outputs": [
    {
     "data": {
      "text/plain": [
       "'ship'"
      ]
     },
     "execution_count": 23,
     "metadata": {},
     "output_type": "execute_result"
    }
   ],
   "source": [
    "classes[y_classes[1]]"
   ]
  },
  {
   "cell_type": "code",
   "execution_count": 27,
   "id": "b71ad567",
   "metadata": {},
   "outputs": [
    {
     "data": {
      "image/png": "[encoded data removed]",
      "text/plain": [
       "<Figure size 864x144 with 1 Axes>"
      ]
     },
     "metadata": {
      "needs_background": "light"
     },
     "output_type": "display_data"
    }
   ],
   "source": [
    "plot_images(X_test,y_test,90)"
   ]
  },
  {
   "cell_type": "code",
   "execution_count": 28,
   "id": "cee63360",
   "metadata": {},
   "outputs": [
    {
     "data": {
      "text/plain": [
       "'ship'"
      ]
     },
     "execution_count": 28,
     "metadata": {},
     "output_type": "execute_result"
    }
   ],
   "source": [
    "classes[y_classes[90]]"
   ]
  },
  {
   "cell_type": "code",
   "execution_count": 25,
   "id": "2e6e622e",
   "metadata": {},
   "outputs": [
    {
     "data": {
      "image/png": "[encoded data removed]",
      "text/plain": [
       "<Figure size 864x144 with 1 Axes>"
      ]
     },
     "metadata": {
      "needs_background": "light"
     },
     "output_type": "display_data"
    }
   ],
   "source": [
    "plot_images(X_test,y_test,10)"
   ]
  },
  {
   "cell_type": "code",
   "execution_count": 26,
   "id": "7910c1ee",
   "metadata": {},
   "outputs": [
    {
     "data": {
      "text/plain": [
       "'airplane'"
      ]
     },
     "execution_count": 26,
     "metadata": {},
     "output_type": "execute_result"
    }
   ],
   "source": [
    "classes[y_classes[10]]"
   ]
  },
  {
   "cell_type": "code",
   "execution_count": 24,
   "id": "39428534",
   "metadata": {},
   "outputs": [
    {
     "name": "stdout",
     "output_type": "stream",
     "text": [
      "Classification Report: \n",
      "               precision    recall  f1-score   support\n",
      "\n",
      "           0       0.73      0.71      0.72      1000\n",
      "           1       0.85      0.76      0.80      1000\n",
      "           2       0.61      0.59      0.60      1000\n",
      "           3       0.51      0.53      0.52      1000\n",
      "           4       0.61      0.69      0.65      1000\n",
      "           5       0.68      0.50      0.58      1000\n",
      "           6       0.75      0.81      0.78      1000\n",
      "           7       0.73      0.77      0.75      1000\n",
      "           8       0.74      0.85      0.79      1000\n",
      "           9       0.78      0.78      0.78      1000\n",
      "\n",
      "    accuracy                           0.70     10000\n",
      "   macro avg       0.70      0.70      0.70     10000\n",
      "weighted avg       0.70      0.70      0.70     10000\n",
      "\n"
     ]
    }
   ],
   "source": [
    "print(\"Classification Report: \\n\", classification_report(y_test,y_classes))"
   ]
  },
  {
   "cell_type": "code",
   "execution_count": null,
   "id": "a3e93e7c",
   "metadata": {},
   "outputs": [],
   "source": []
  },
  {
   "cell_type": "code",
   "execution_count": null,
   "id": "1c332b2d",
   "metadata": {},
   "outputs": [],
   "source": []
  },
  {
   "cell_type": "code",
   "execution_count": null,
   "id": "1894ebe9",
   "metadata": {},
   "outputs": [],
   "source": []
  },
  {
   "cell_type": "code",
   "execution_count": null,
   "id": "53d34d51",
   "metadata": {},
   "outputs": [],
   "source": []
  }
 ],
 "metadata": {
  "kernelspec": {
   "display_name": "Python 3 (ipykernel)",
   "language": "python",
   "name": "python3"
  },
  "language_info": {
   "codemirror_mode": {
    "name": "ipython",
    "version": 3
   },
   "file_extension": ".py",
   "mimetype": "text/x-python",
   "name": "python",
   "nbconvert_exporter": "python",
   "pygments_lexer": "ipython3",
   "version": "3.9.13"
  }
 },
 "nbformat": 4,
 "nbformat_minor": 5
}
